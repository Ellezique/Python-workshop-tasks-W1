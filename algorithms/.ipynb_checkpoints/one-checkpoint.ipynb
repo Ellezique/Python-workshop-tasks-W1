{
 "cells": [
  {
   "cell_type": "markdown",
   "metadata": {},
   "source": [
    "# Question 1: Implement a stack with operations Push, Pop, Max, where each operation takes constant time to complete: O(c) aka O(1)\n",
    "\n",
    "# POP AND PUSH \n",
    "\n",
    "A function with O(n) complexity will, in a worst-case scenario, have a linear running time i.e. the running time increases in direct proportion to the number of inputs. O(1) means it takes constant time regardless of the number of inputs.\n",
    "\n",
    "Linear data structures: each item added will remain in that position relative to other elements that were added before it and which are added after it (top to bottom execution). \n",
    "\n",
    "A stack is a linear data structure. It is an ordered (last-in, first-out) collection of elements with a top and bottom/base. New items are added to the top, pushing older items to the base/bottom.\n",
    "\n",
    "Stack operations include, but are not limited to:\n",
    "- `push(item)` - Add new item to top of stack. Requires item. Returns nothing. Time Complexity: O(1)\n",
    "- `pop()` - Removes item from the top of the stack and modifies stack. Requires no parameters. Returns item. Time Complexity: O(1)\n",
    "\n",
    "There are many ways to implement python stack, e.g list, Collections.deque and queue.LifoQueue etc.\n",
    "\n",
    "List implementation will have O(n) complexity when adding or removing from the front of the list (top of the stack) because the existing elements need to shift when a new element is added. \n",
    "\n",
    "The collections.deque implementation will have O(1) complexity because it implements a double-ended queue supporting adding and removing items at either end of the stack. \n",
    "\n",
    "# USING A CLASS FOR IMPLEMENTING A STACK USING A LIST\n",
    "\n",
    "Python is an object-oriented language so the creation of a new class is an appropriate choice for a stack. If implementing a stack using a list, it must be decided whether the top of the stack will be at the beginning or end of the list or items. "
   ]
  },
  {
   "cell_type": "markdown",
   "metadata": {},
   "source": [
    "\n",
    "If the stack implementation assumes that the **end of the list of items holds the top element in the stack**, then append() can add new items to the end of the list and pop() operations can remove items from the same end of the list. Both append() and pop() have an O(1) complexity. This implementation performs the operations in constant time regardless of how many items are in the stack."
   ]
  },
  {
   "cell_type": "code",
   "execution_count": 102,
   "metadata": {},
   "outputs": [
    {
     "name": "stdout",
     "output_type": "stream",
     "text": [
      "The stack is empty:  True\n",
      "[1]\n",
      "[1, 2]\n",
      "[1, 2, 3]\n",
      "[1, 2, 3, 4]\n",
      "The top element in the stack is:  4\n",
      "4\n",
      "[1, 2, 3]\n",
      "3\n",
      "[1, 2]\n",
      "2\n",
      "[1]\n",
      "1\n",
      "[]\n",
      "The list size is:  0\n"
     ]
    }
   ],
   "source": [
    "import time\n",
    "\n",
    "\n",
    "# End of list holds top element. O(1) constant complexity.\n",
    "class StackEndTop:\n",
    "     def __init__(self): # A class is blueprint for a set or category of things with the same attributes\n",
    "         self.items = [] #constructs an object from the class. Self is an instance of class.\n",
    "\n",
    "     def isEmpty(self):  #check if stack is empty -> true of false\n",
    "         return self.items == []\n",
    "\n",
    "     def push(self, item): #adds a new item \n",
    "         self.items.append(item)\n",
    "    \n",
    "     def printlist(self): #operation to print list of all items in stack\n",
    "        print(self.items) \n",
    "        \n",
    "     #def max(self):\n",
    "        #print(max(self.items)) \n",
    "\n",
    "     def pop(self): # removes item \n",
    "         return self.items.pop()\n",
    "\n",
    "     def peek(self): #Peek gets the top element of the stack\n",
    "         return self.items[len(self.items)-1] #the length of the list of items equals the number of items. The end of the list holds the top element.\n",
    "\n",
    "     def size(self):\n",
    "         return len(self.items)\n",
    "    \n",
    "         \n",
    "s = StackEndTop() #Create a stack object.\n",
    "print(\"The stack is empty: \", s.isEmpty())\n",
    "s.push(1) # first in.\n",
    "s.printlist() # [1]\n",
    "s.push(2) # second in\n",
    "s.printlist() # [1, 2]\n",
    "s.push(3) # third in\n",
    "s.printlist() # [1, 2, 3]\n",
    "s.push(4) # fourth in \n",
    "s.printlist() # [1, 2, 3, 4]\n",
    "#s.max() # 4\n",
    "print(\"The top element in the stack is: \", s.peek()) # Peek gets the top element in the stack.\n",
    "#from the same end of the stack:\n",
    "print(s.pop()) # last in, first out. pop fourth in. pop 4\n",
    "s.printlist() # [1, 2, 3]\n",
    "print(s.pop()) # third out. pop 3\n",
    "s.printlist() # [1, 2]\n",
    "print(s.pop()) # second out. pop 2\n",
    "s.printlist()  #[1]\n",
    "print(s.pop()) # first out. pop 1\n",
    "s.printlist() # empty array\n",
    "print(\"The list size is: \", s.size()) # 0\n",
    "\n",
    "#test the max value\n",
    "#s.push(13) \n",
    "#s.push(-88) \n",
    "#s.printlist() #[13,-88]\n",
    "#s.max() #13\n",
    "#s.push(103) \n",
    "#s.push(100)\n",
    "#s.printlist() #[13,-88, 103, 100]\n",
    "#s.max() #103\n",
    "#s.push(92)\n",
    "#s.printlist() #[13,-88, 103, 100, 92]\n",
    "#s.max() #103\n",
    "#print(s.pop())\n",
    "#print(s.pop())\n",
    "#print(s.pop())\n",
    "#s.printlist()\n",
    "#s.max() #13"
   ]
  },
  {
   "cell_type": "markdown",
   "metadata": {},
   "source": [
    "If the stack implementation assumes that the **beginning of the list of items holds the top element in the stack**, then pop()and append() won't work. For pop() and insert() to work, you must index the first item in the list explicitly (indexed at 0). This implementation is less efficient because insert(0) and pop(0) have linear complexity i.e.complexity  increases in proportion to the number of items in the stack."
   ]
  },
  {
   "cell_type": "code",
   "execution_count": 108,
   "metadata": {},
   "outputs": [
    {
     "name": "stdout",
     "output_type": "stream",
     "text": [
      "The stack is empty:  True\n",
      "[1]\n",
      "[2, 1]\n",
      "[3, 2, 1]\n",
      "[4, 3, 2, 1]\n",
      "The top element in the stack is:  4\n",
      "4\n",
      "[3, 2, 1]\n",
      "3\n",
      "[2, 1]\n",
      "2\n",
      "[1]\n",
      "1\n",
      "[]\n",
      "The list size is:  0\n"
     ]
    }
   ],
   "source": [
    "# Beginning of list of items holds top element. O(n) linear complexity. Last in, first out.\n",
    "class StackBeginningTop: # A class is blueprint for a set or category of things with the same attributes\n",
    "  def __init__(self): #constructs an object from the class. Self is an instance of class.\n",
    "    self.items = []\n",
    "  \n",
    "  def isEmpty(self): #check if stack is empty -> true of false\n",
    "    return self.items == []\n",
    "\n",
    "  def push(self, item): #adds a new item \n",
    "    self.items.insert(0,item) #zero index at beginning of list\n",
    "\n",
    "  def printlist(self): #operation to print list of all items in stack\n",
    "    print(self.items) \n",
    "\n",
    "  def pop(self): # removes item \n",
    "    return self.items.pop(0) # zero index at beginning of list\n",
    "\n",
    "  def peek(self): # Peek gets the top element of the stack\n",
    "    return self.items[0]  #zero index at beginning of list\n",
    " \n",
    "  def size(self): #the stack size is equal to the length of items\n",
    "    return len(self.items) \n",
    "\n",
    "\n",
    "  s = StackBeginningTop() #Create a stack object.\n",
    "  print(\"The stack is empty: \", s.isEmpty())\n",
    "  s.push(1) # first in.\n",
    "  s.printlist() # [1]\n",
    "  s.push(2) # second in\n",
    "  s.printlist() # [2, 1]\n",
    "  s.push(3) # third in\n",
    "  s.printlist() # [3, 2, 1]\n",
    "  s.push(4) # fourth in [4, 3, 2, 1]\n",
    "  s.printlist() # \n",
    "  print(\"The top element in the stack is: \", s.peek()) # Peek gets the top element in the stack.\n",
    "  #from the same end of the stack:\n",
    "  print(s.pop()) # last in, first out. pop fourth in. pop 4\n",
    "  s.printlist() # [3, 2, 1]\n",
    "  print(s.pop()) # third out. pop 3\n",
    "  s.printlist() # [2, 1]\n",
    "  print(s.pop()) # second out. pop 2\n",
    "  s.printlist()  # [1]\n",
    "  print(s.pop()) # first out. pop 1\n",
    "  s.printlist() # empty array\n",
    "  print(\"The list size is: \", s.size()) # 0"
   ]
  },
  {
   "cell_type": "markdown",
   "metadata": {},
   "source": [
    "# MAX, POP, PUSH  \n",
    "\n",
    "Using a class with pop and push operations, as was done in the first example, we can achieve O(1) constant complexity if the end of the list holds the top element. \n",
    "\n",
    "Next, the `max()`  operation will return the largest item in an iterable. It can be also be used to find largest item between 2 or more pramaters. Here it will be used to return the item with the max value in the stack. The brute force method will push elements to the stack and the complexity of max() will be O(n) because it must, in a worst case scenario, iterate through each item in the list i.e. the complexity will increase in direct proportion to the number of items in the stack. An example of this has been commented out of the first code example, above. \n",
    "\n",
    "A more efficient solution for getting the max value of the list would be to keep a second auxiliary stack that is only used to keep track of the maximum item. An auxiliary stack is helper data structure that will take up additional space for the time that it is stored. The time complexity is 0(1) but the auxiliary complexity is O(n) i.e. complexity is constant and auxiliary complexity is linear (increases directly proportional to the stack size).\n",
    "\n",
    "# SOLUTION IN CONCLUSION \n",
    "The following solution is adapted from PranchalK, as available online at https://www.geeksforgeeks.org/tracking-current-maximum-element-in-a-stack/"
   ]
  },
  {
   "cell_type": "code",
   "execution_count": 1,
   "metadata": {},
   "outputs": [
    {
     "ename": "NameError",
     "evalue": "name 'x' is not defined",
     "output_type": "error",
     "traceback": [
      "\u001b[0;31m---------------------------------------------------------------------------\u001b[0m",
      "\u001b[0;31mNameError\u001b[0m                                 Traceback (most recent call last)",
      "\u001b[0;32m<ipython-input-1-daa93843f02d>\u001b[0m in \u001b[0;36m<module>\u001b[0;34m\u001b[0m\n\u001b[1;32m      3\u001b[0m \u001b[0mplt\u001b[0m\u001b[0;34m.\u001b[0m\u001b[0mxlabel\u001b[0m\u001b[0;34m(\u001b[0m\u001b[0;34m\"No. of elements\"\u001b[0m\u001b[0;34m)\u001b[0m\u001b[0;34m\u001b[0m\u001b[0;34m\u001b[0m\u001b[0m\n\u001b[1;32m      4\u001b[0m \u001b[0mplt\u001b[0m\u001b[0;34m.\u001b[0m\u001b[0mylabel\u001b[0m\u001b[0;34m(\u001b[0m\u001b[0;34m\"Time required\"\u001b[0m\u001b[0;34m)\u001b[0m\u001b[0;34m\u001b[0m\u001b[0;34m\u001b[0m\u001b[0m\n\u001b[0;32m----> 5\u001b[0;31m \u001b[0mplt\u001b[0m\u001b[0;34m.\u001b[0m\u001b[0mplot\u001b[0m\u001b[0;34m(\u001b[0m\u001b[0mx\u001b[0m\u001b[0;34m,\u001b[0m\u001b[0mtimes\u001b[0m\u001b[0;34m)\u001b[0m\u001b[0;34m\u001b[0m\u001b[0;34m\u001b[0m\u001b[0m\n\u001b[0m\u001b[1;32m      6\u001b[0m \u001b[0;34m\u001b[0m\u001b[0m\n\u001b[1;32m      7\u001b[0m \u001b[0;32mclass\u001b[0m \u001b[0mStackMax\u001b[0m\u001b[0;34m:\u001b[0m\u001b[0;34m\u001b[0m\u001b[0;34m\u001b[0m\u001b[0m\n",
      "\u001b[0;31mNameError\u001b[0m: name 'x' is not defined"
     ]
    },
    {
     "data": {
      "image/png": "[encoded data removed]",
      "text/plain": [
       "<Figure size 432x288 with 1 Axes>"
      ]
     },
     "metadata": {
      "needs_background": "light"
     },
     "output_type": "display_data"
    }
   ],
   "source": [
    "import matplotlib.pyplot as plt\n",
    "%matplotlib inline\n",
    "plt.xlabel(\"No. of elements\")\n",
    "plt.ylabel(\"Time required\")\n",
    "plt.plot(x,times)\n",
    "\n",
    "class StackMax:\n",
    "    \n",
    "    def __init__(self):\n",
    "          \n",
    "        # main stack \n",
    "        self.mainStack = [] \n",
    "      \n",
    "        # auxiliary stack to help tack the item with max value in the list\n",
    "        self.auxiliaryStack = []\n",
    "  \n",
    "    def push(self, x):\n",
    "        self.mainStack.append(x) \n",
    "        if (len(self.mainStack) == 1):\n",
    "            self.auxiliaryStack.append(x) \n",
    "            return\n",
    "   \n",
    "        if (x > self.auxiliaryStack[-1]): # If the current element is greater than the top element of the auxiliary stack,\n",
    "            self.auxiliaryStack.append(x)  # append the current element to the auxiliary stack\n",
    "        else:\n",
    "            self.auxiliaryStack.append(self.auxiliaryStack[-1]) # else append the element at top of the auxiliary stack again into it.\n",
    "  \n",
    "    def max(self):\n",
    "        return self.auxiliaryStack[-1]\n",
    "  \n",
    "    def pop(self):\n",
    "        self.mainStack.pop() \n",
    "        self.auxiliaryStack.pop()\n",
    "    \n",
    "\n",
    "    \n",
    "    print(times)\n",
    "    s = StackMax()\n",
    "    s.push(50) \n",
    "    print(s.max()) \n",
    "    s.push(25) \n",
    "    print(s.max())\n",
    "    s.push(100) \n",
    "    print(s.max())"
   ]
  },
  {
   "cell_type": "markdown",
   "metadata": {},
   "source": [
    "#### References\n",
    "- Runestone Academy, Chapter 4 and specifically 4.5 'Implementing a Stack in Python', https://runestone.academy/runestone/books/published/pythonds/BasicDS/ImplementingaStackinPython.html \n",
    "- Programiz, Python max(),  https://www.programiz.com/python-programming/methods/built-in/max\n",
    "- https://www.edureka.co/blog/stack-in-python/\n",
    "- https://www.geeksforgeeks.org/tracking-current-maximum-element-in-a-stack/\n",
    "\n",
    "\n",
    "#### To do\n",
    "Check complexity of operations, especially in max solution.\n",
    "Add graph and function measuring complexity using built in lists. This proves the actual complexity of the solution.\n",
    "The ideal solution would be to write your own stack without using lists. \n",
    "Auxiliary stacks -  Use stack in stack to track max (this is needed for when items are popped).\n",
    "Consider using a counter to track length/number of items in list."
   ]
  }
 ],
 "metadata": {
  "interpreter": {
   "hash": "63751a5ece8274622384c380d1ec9a5c7b94eb29c37aa5c91456440a63970985"
  },
  "kernelspec": {
   "display_name": "Python 3",
   "language": "python",
   "name": "python3"
  },
  "language_info": {
   "codemirror_mode": {
    "name": "ipython",
    "version": 3
   },
   "file_extension": ".py",
   "mimetype": "text/x-python",
   "name": "python",
   "nbconvert_exporter": "python",
   "pygments_lexer": "ipython3",
   "version": "3.8.8"
  }
 },
 "nbformat": 4,
 "nbformat_minor": 2
}
