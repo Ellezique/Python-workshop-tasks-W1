{
 "cells": [
  {
   "cell_type": "markdown",
   "source": [
    "# Question 4: You are given a sequencea_1,a_2,...,a_n  ∈N, and S∈N. Implement a program that would find l,r:(1≤l≤r≤n) so that ∑_(i=l)^r a_i=S: O(n)\n",
    "\n",
    "\n"
   ],
   "metadata": {}
  },
  {
   "cell_type": "markdown",
   "source": [
    "#### References"
   ],
   "metadata": {}
  },
  {
   "cell_type": "markdown",
   "source": [],
   "metadata": {}
  }
 ],
 "metadata": {
  "orig_nbformat": 4,
  "language_info": {
   "name": "python"
  }
 },
 "nbformat": 4,
 "nbformat_minor": 2
}