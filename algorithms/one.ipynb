{
 "cells": [
  {
   "cell_type": "markdown",
   "source": [
    "A function with O(n) complexity will, in a worst-case scenario, have a linear running time i.e. the running time increases in direct proportion to the number of inputs. O(1) means it takes constant time regardless of the number of inputs.\n",
    "\n",
    "Linear data structures: each item added will remain in that position relative to other elements that were added before it and which are added after it (top to bottom execution). \n",
    "\n",
    "A stack is a linear data structure. It is an ordered (last-in first-out) collection of elements with a top and bottom/base. New items are added to the top, pushing older items to the base/bottom.\n",
    "\n",
    "Stack operations include, but are not limited to:\n",
    "- `push(item)` - Add new item to top of stack. Requires item. Returns nothing. Time Complexity: O(1)\n",
    "- `pop()` - Removes top item and modifies stack. Requires no parameters. Returns item. Time Complexity: O(1)\n",
    "\n",
    "`max()` - Returns largest item in an iterable. Can be used to find largest item between 2 or more pramaters.\n",
    "\n",
    "There are many ways to implement python stack, e.g list, Collections.deque and queue.LifoQueue etc.\n",
    "\n",
    "List implementation will have O(n) complexity when adding or removing from the front of the list (top of the stack) because the existing elements need to shift when a new element is added. \n",
    "\n",
    "The collections.deque implementation will have O(1) complexity because it implements a double-ended queue supporting adding and removing items at either end of the stack. \n",
    "\n",
    "Python is an object-oriented language so the creation of a new class is an appropriate choice for a stack."
   ],
   "metadata": {}
  },
  {
   "cell_type": "code",
   "execution_count": 44,
   "source": [
    "# this stack implementation assumes the end of the list holds the top element. \n",
    "# push adds new items to the end of the list.\n",
    "# pop manipulates the end of the list.\n",
    "class Stack: # A class is blueprint for a set or category of things with the same attributes\n",
    "  def __init__(self): #constructs an object from the class. Self is an instance of class.\n",
    "    self.items = []\n",
    "  \n",
    "  def isEmpty(self): #check if list is empty -> true of false\n",
    "    return self.items == []\n",
    "\n",
    "  def push(self, item):\n",
    "    self.items.insert(0,item)\n",
    "  \n",
    "  def pop(self):\n",
    "    return self.items.pop(0)\n",
    "\n",
    "  def peek(self):\n",
    "    return self.items[len(self.items)-1]\n",
    "\n",
    "  def size(self):\n",
    "    return len(self.items) \n",
    "\n",
    "\n",
    "s = Stack()\n",
    "print(s.isEmpty())\n",
    "s.push(1) # first in\n",
    "s.push(2) # second in\n",
    "s.push(3) # third in\n",
    "s.push(4) # fourth in\n",
    "print(s.peek())\n",
    "#from the same end of the stack:\n",
    "print(s.pop()) # fourth out\n",
    "print(s.pop()) # third out\n",
    "print(s.pop()) # second out\n",
    "print(s.pop()) # first out\n",
    "print(s.size()) \n"
   ],
   "outputs": [
    {
     "output_type": "stream",
     "name": "stdout",
     "text": [
      "True\n",
      "1\n",
      "4\n",
      "3\n",
      "2\n",
      "1\n",
      "0\n"
     ]
    },
    {
     "output_type": "error",
     "ename": "AttributeError",
     "evalue": "'Stack' object has no attribute 'max'",
     "traceback": [
      "\u001b[0;31m---------------------------------------------------------------------------\u001b[0m",
      "\u001b[0;31mAttributeError\u001b[0m                            Traceback (most recent call last)",
      "\u001b[0;32m<ipython-input-44-6d89dd0a43af>\u001b[0m in \u001b[0;36m<module>\u001b[0;34m\u001b[0m\n\u001b[1;32m     35\u001b[0m \u001b[0mprint\u001b[0m\u001b[0;34m(\u001b[0m\u001b[0ms\u001b[0m\u001b[0;34m.\u001b[0m\u001b[0mpop\u001b[0m\u001b[0;34m(\u001b[0m\u001b[0;34m)\u001b[0m\u001b[0;34m)\u001b[0m \u001b[0;31m# first out\u001b[0m\u001b[0;34m\u001b[0m\u001b[0;34m\u001b[0m\u001b[0m\n\u001b[1;32m     36\u001b[0m \u001b[0mprint\u001b[0m\u001b[0;34m(\u001b[0m\u001b[0ms\u001b[0m\u001b[0;34m.\u001b[0m\u001b[0msize\u001b[0m\u001b[0;34m(\u001b[0m\u001b[0;34m)\u001b[0m\u001b[0;34m)\u001b[0m\u001b[0;34m\u001b[0m\u001b[0;34m\u001b[0m\u001b[0m\n\u001b[0;32m---> 37\u001b[0;31m \u001b[0mprint\u001b[0m\u001b[0;34m(\u001b[0m\u001b[0ms\u001b[0m\u001b[0;34m.\u001b[0m\u001b[0mmax\u001b[0m\u001b[0;34m(\u001b[0m\u001b[0;34m)\u001b[0m\u001b[0;34m)\u001b[0m\u001b[0;34m\u001b[0m\u001b[0;34m\u001b[0m\u001b[0m\n\u001b[0m",
      "\u001b[0;31mAttributeError\u001b[0m: 'Stack' object has no attribute 'max'"
     ]
    }
   ],
   "metadata": {}
  },
  {
   "cell_type": "code",
   "execution_count": null,
   "source": [],
   "outputs": [],
   "metadata": {}
  },
  {
   "cell_type": "code",
   "execution_count": null,
   "source": [],
   "outputs": [],
   "metadata": {}
  }
 ],
 "metadata": {
  "orig_nbformat": 4,
  "language_info": {
   "name": "python",
   "version": "3.8.8",
   "mimetype": "text/x-python",
   "codemirror_mode": {
    "name": "ipython",
    "version": 3
   },
   "pygments_lexer": "ipython3",
   "nbconvert_exporter": "python",
   "file_extension": ".py"
  },
  "kernelspec": {
   "name": "python3",
   "display_name": "Python 3.8.8 64-bit ('base': conda)"
  },
  "interpreter": {
   "hash": "63751a5ece8274622384c380d1ec9a5c7b94eb29c37aa5c91456440a63970985"
  }
 },
 "nbformat": 4,
 "nbformat_minor": 2
}