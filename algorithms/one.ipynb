{
 "cells": [
  {
   "cell_type": "markdown",
   "source": [
    "A function with O(n) complexity will, in a worst-case scenario, have a linear running time i.e. the running time increases in direct proportion to the number of inputs. O(1) means it takes constant time regardless of the number of inputs.\n",
    "\n",
    "Linear data structures: each item added will remain in that position relative to other elements that were added before it and which are added after it (top to bottom execution). \n",
    "\n",
    "A stack is a linear data structure. It is an ordered (last-in, first-out) collection of elements with a top and bottom/base. New items are added to the top, pushing older items to the base/bottom.\n",
    "\n",
    "Stack operations include, but are not limited to:\n",
    "- `push(item)` - Add new item to top of stack. Requires item. Returns nothing. Time Complexity: O(1)\n",
    "- `pop()` - Removes item from the top of the stack and modifies stack. Requires no parameters. Returns item. Time Complexity: O(1)\n",
    "\n",
    "`max()` - Returns largest item in an iterable. Can be used to find largest item between 2 or more pramaters.\n",
    "\n",
    "There are many ways to implement python stack, e.g list, Collections.deque and queue.LifoQueue etc.\n",
    "\n",
    "List implementation will have O(n) complexity when adding or removing from the front of the list (top of the stack) because the existing elements need to shift when a new element is added. \n",
    "\n",
    "The collections.deque implementation will have O(1) complexity because it implements a double-ended queue supporting adding and removing items at either end of the stack. \n",
    "\n",
    "Python is an object-oriented language so the creation of a new class is an appropriate choice for a stack. If implementing a stack using a list, it must be decided whether the top of the stack will be at the beginning or end of the list or items. If the stack implementation assumes that the:"
   ],
   "metadata": {}
  },
  {
   "cell_type": "markdown",
   "source": [
    "**end of the list of items holds the top element in the stack**, then append() can add new items to the end of the list and pop() operations can remove items from the same end of the list. Both append() and pop() have an O(1) complexity. This implementation performs the operations in constant time regardless of how many items are in the stack."
   ],
   "metadata": {}
  },
  {
   "cell_type": "code",
   "execution_count": null,
   "source": [
    "# End of list holds top element. O(1) constant complexity.\n",
    "\n"
   ],
   "outputs": [],
   "metadata": {}
  },
  {
   "cell_type": "markdown",
   "source": [
    "**beginning of the list of items holds the top element in the stack**, then pop()and append() won't work. For pop() and insert() to work, you must index the first item in the list explicitly (indexed at 0). This implementation is less efficient because insert(0) and pop(0) have linear complexity i.e. runtime increases in proportion to the number of items in the stack."
   ],
   "metadata": {}
  },
  {
   "cell_type": "code",
   "execution_count": 67,
   "source": [
    "# Beginning of list of items holds top element. O(n) linear complexity.\n",
    "class Stack: # A class is blueprint for a set or category of things with the same attributes\n",
    "  def __init__(self): #constructs an object from the class. Self is an instance of class.\n",
    "    self.items = []\n",
    "  \n",
    "  def isEmpty(self): #check if stack is empty -> true of false\n",
    "    return self.items == []\n",
    "\n",
    "  def push(self, item): #adds a new item \n",
    "    self.items.insert(0,item) #zero index at beginning of list\n",
    "\n",
    "  def printlist(self): #function to print list of all items in stack\n",
    "    print(self.items) \n",
    "\n",
    "  def pop(self): # removes item \n",
    "    return self.items.pop(0) # zero index at beginning of list\n",
    "\n",
    "  def peek(self): #Peek gets the top element of the stack\n",
    "    return self.items[len(self.items)-1]\n",
    "\n",
    "  def size(self): #the stack size is equal to the length of items\n",
    "    return len(self.items) \n",
    "\n",
    "\n",
    "s = Stack() #Create a stack object.\n",
    "print(\"The stack is empty: \",s.isEmpty())\n",
    "s.push(1) # first in.\n",
    "s.printlist() # [1]\n",
    "s.push(2) # second in\n",
    "s.printlist() # [2, 1]\n",
    "s.push(3) # third in\n",
    "s.printlist() # [3, 2, 1]\n",
    "s.push(4) # fourth in [4, 3, 2, 1]\n",
    "s.printlist() # \n",
    "print(\"The top element in the stack is: \", s.peek()) # Peek gets the top element in the stack. The top element is the first element in: 1\n",
    "#from the same end of the stack:\n",
    "print(s.pop()) # last in, first out. pop fourth in. pop 4\n",
    "s.printlist() # [3, 2, 1]\n",
    "print(s.pop()) # third out. pop 3\n",
    "s.printlist() # [2, 1]\n",
    "print(s.pop()) # second out. pop 2\n",
    "s.printlist()  #[1]\n",
    "print(s.pop()) # first out. pop 1\n",
    "s.printlist() # []\n",
    "print(\"The list size is: \", s.size()) # 0"
   ],
   "outputs": [
    {
     "output_type": "stream",
     "name": "stdout",
     "text": [
      "The stack is empty:  True\n",
      "[1]\n",
      "[2, 1]\n",
      "[3, 2, 1]\n",
      "[4, 3, 2, 1]\n",
      "The top element in the stack is:  1\n",
      "4\n",
      "[3, 2, 1]\n",
      "3\n",
      "[2, 1]\n",
      "2\n",
      "[1]\n",
      "1\n",
      "[]\n",
      "The list size is:  0\n"
     ]
    }
   ],
   "metadata": {}
  },
  {
   "cell_type": "code",
   "execution_count": null,
   "source": [],
   "outputs": [],
   "metadata": {}
  },
  {
   "cell_type": "code",
   "execution_count": null,
   "source": [],
   "outputs": [],
   "metadata": {}
  }
 ],
 "metadata": {
  "orig_nbformat": 4,
  "language_info": {
   "name": "python",
   "version": "3.8.8",
   "mimetype": "text/x-python",
   "codemirror_mode": {
    "name": "ipython",
    "version": 3
   },
   "pygments_lexer": "ipython3",
   "nbconvert_exporter": "python",
   "file_extension": ".py"
  },
  "kernelspec": {
   "name": "python3",
   "display_name": "Python 3.8.8 64-bit ('base': conda)"
  },
  "interpreter": {
   "hash": "63751a5ece8274622384c380d1ec9a5c7b94eb29c37aa5c91456440a63970985"
  }
 },
 "nbformat": 4,
 "nbformat_minor": 2
}