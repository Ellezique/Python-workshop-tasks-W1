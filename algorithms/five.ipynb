{
 "cells": [
  {
   "cell_type": "markdown",
   "source": [
    "# Question 5: You are given a sequencea_1,a_2,...,a_n  ∈Z. Implement a program that would find l,r:(1≤l≤r≤n) so that ∑_(i=l)^r a_iwould be the maximum possible: O(n)"
   ],
   "metadata": {}
  },
  {
   "cell_type": "markdown",
   "source": [
    "#### References"
   ],
   "metadata": {}
  }
 ],
 "metadata": {
  "orig_nbformat": 4,
  "language_info": {
   "name": "python"
  }
 },
 "nbformat": 4,
 "nbformat_minor": 2
}