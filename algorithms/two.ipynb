{
 "cells": [
  {
   "cell_type": "markdown",
   "source": [
    "# Question 2: Implement a queue with operations Push, Pop, Max, where each operation takes constant time to complete: O(c)"
   ],
   "metadata": {}
  },
  {
   "cell_type": "markdown",
   "source": [
    "#### References"
   ],
   "metadata": {}
  }
 ],
 "metadata": {
  "orig_nbformat": 4,
  "language_info": {
   "name": "python"
  }
 },
 "nbformat": 4,
 "nbformat_minor": 2
}