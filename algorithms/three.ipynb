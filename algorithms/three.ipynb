{
 "cells": [
  {
   "cell_type": "markdown",
   "source": [
    "# Question 3:\tYou are given an input string as a sequence of brackets of different types  '(', ')', '[', ']', '{', ‘}’. We need to implement an algorithm that will check if the sequence is correct, i.e. there is a closing bracket for each opening bracket. For example\n",
    "‘([{}])’ and ‘()()’ are correct, ‘[)’ and ‘[(])’ are not. The algorithm should be of O(n) complexity where n is the length of the input string.\n"
   ],
   "metadata": {}
  },
  {
   "cell_type": "markdown",
   "source": [
    "A sequence is an enumerated collection of elements. \n",
    "- Length = the number of elements (possibly infinite)\n",
    "- The same element can appear multiple times throughout the sequence\n",
    "- Order matters\n",
    "\n",
    "CHAPTER 2 Sequences (Tuples, Disctionaries, Sorting Dictionaries)\n",
    "\n",
    "\n",
    "TUPLES\n",
    "Tuples are immutable sequences of arbitrary objects seperated by commas (often enclosed in parentheses). Lists of tuples can be sorted.\n",
    "Create a tuple from a string input:\n",
    "- Input: tuple('([{}])')\n",
    "- Output: ('(', '[', '{', '}', ']', ')')\n",
    "\n",
    "DICTIONARY\n",
    "\"Python dictionaries are the only built-in mapping type and they are similar to hash tables or\n",
    "associative arrays found in other languages. They can be thought of as a mapping from a set\n",
    "of keys to a set of values. They are created using the syntax {key:value}. For example, the\n",
    "following creates a dictionary mapping words to numerals:\n",
    "d ={'one': 1 , 'two': 2, 'three': 3 } # creates a dictionary\"\n",
    "\n",
    "\"the `in` operator, when applied to dictionaries, works in a slightly\n",
    "different way to when it is applied to a list. When we use the in operator on a list, the\n",
    "relationship between the time it takes to find an element and the size of the list is\n",
    "considered linear. That is, as the size of the list gets bigger, the corresponding time it takes\n",
    "to find an element grows, at most, linearly.\" -p40\n",
    "\n",
    "\"In contrast to the `list` object, when the `in` operator is applied to dictionaries, it uses a\n",
    "hashing algorithm and this has the effect of the increase in time for each lookup almost\n",
    "independent of the size of the dictionary. This makes dictionaries extremely useful as a way\n",
    "to work with large amounts of indexed data.\" -p40\n",
    "\n",
    "\"Notice when we print out the key:value pairs of the dictionary it does so in no particular\n",
    "order. This is not a problem since we use specified keys to look up each dictionary value\n",
    "rather than an ordered sequence of integers as is the case for strings and lists.\" -p40\n",
    "\n",
    "Sorting dictionaries from age 41"
   ],
   "metadata": {}
  },
  {
   "cell_type": "markdown",
   "source": [
    "MUST BE LINEAR COMPLEXITY e.g. iterate through the sequence once.\n",
    "\n",
    "1. Brackets are pairs. The length of the sequence must be even. Else, return False.\n",
    "2. There are 3 types of brackets. For each type of opening bracket, there must be a closing bracket of the same type in that order. [\"(\", \")\"], [\"{\", \"}\"], [\"[\", \"]\"]\n",
    "3. \n",
    "Create a loop that checks: \n",
    "  Length = 6\n",
    "  Indexes = 0 ... (length -1)\n",
    "  0 1 2 3 4 5\n",
    "  ( { [ ] } )\n",
    "\n",
    "  ( + ) = 0 + 5 = 5\n",
    "  { + } = 1 + 4 = 5\n",
    "  [ + ] = 2 + 3 = 5\n",
    "\n",
    "Break loop when pairs made \n",
    "\n",
    "\n"
   ],
   "metadata": {}
  },
  {
   "cell_type": "code",
   "execution_count": 2,
   "source": [
    "#WORKING WITH TUPLES\n",
    "input = \"([{}])\"\n",
    "tuple(input) #Create a tuple from a string input:\n",
    "print(tuple(input)) #('(', '[', '{', '}', ']', ')')\n",
    "\n",
    "round = [\"(\", \")\"]\n",
    "round_open, round_close = round #assigns round_open and roun_close to \"(\" and \")\" respectively\n",
    "\n",
    "curly = [\"{\", \"}\"]\n",
    "curly_open, curly_close = curly \n",
    "\n",
    "square = [\"[\", \"]\"]\n",
    "square_open, square_close = square\n",
    "\n",
    "\n",
    "#DICTIONARY\n"
   ],
   "outputs": [
    {
     "output_type": "stream",
     "name": "stdout",
     "text": [
      "('(', '[', '{', '}', ']', ')')\n"
     ]
    }
   ],
   "metadata": {}
  },
  {
   "cell_type": "markdown",
   "source": [
    "#### References\n",
    "- https://en.wikipedia.org/wiki/Sequence\n",
    "- Benjamin Baka, Python Data Structures and Algorithm, Tuples (2017)\n",
    "\n",
    "\n",
    "\n",
    "- https://johnlekberg.com/blog/2020-10-25-seq-align.html\n",
    "- https://en.wikipedia.org/wiki/Needleman–Wunsch_algorithm\n"
   ],
   "metadata": {}
  }
 ],
 "metadata": {
  "orig_nbformat": 4,
  "language_info": {
   "name": "python",
   "version": "3.8.8",
   "mimetype": "text/x-python",
   "codemirror_mode": {
    "name": "ipython",
    "version": 3
   },
   "pygments_lexer": "ipython3",
   "nbconvert_exporter": "python",
   "file_extension": ".py"
  },
  "kernelspec": {
   "name": "python3",
   "display_name": "Python 3.8.8 64-bit ('base': conda)"
  },
  "interpreter": {
   "hash": "63751a5ece8274622384c380d1ec9a5c7b94eb29c37aa5c91456440a63970985"
  }
 },
 "nbformat": 4,
 "nbformat_minor": 2
}