{
 "cells": [
  {
   "cell_type": "markdown",
   "source": [
    "# Question 3:\tYou are given an input string as a sequence of brackets of different types  '(', ')', '[', ']', '{', ‘}’. We need to implement an algorithm that will check if the sequence is correct, i.e. there is a closing bracket for each opening bracket. For example\n",
    "‘([{}])’ and ‘()()’ are correct, ‘[)’ and ‘[(])’ are not. The algorithm should be of O(n) complexity where n is the length of the input string.\n"
   ],
   "metadata": {}
  },
  {
   "cell_type": "markdown",
   "source": [
    "KEYWORDS: python dictionary sorting tuple key value pairs\n",
    "\n",
    "\n",
    "A sequence is an enumerated collection of elements. \n",
    "- Length = the number of elements (possibly infinite)\n",
    "- The same element can appear multiple times throughout the sequence\n",
    "- Order matters\n",
    "\n",
    "CHAPTER 2 Sequences (Tuples, Disctionaries, Sorting Dictionaries)\n",
    "\n",
    "\n",
    "TUPLES\n",
    "Tuples are immutable sequences of arbitrary objects seperated by commas (often enclosed in parentheses). Lists of tuples can be sorted.\n",
    "Create a tuple from a string input:\n",
    "- Input: tuple('([{}])')\n",
    "- Output: ('(', '[', '{', '}', ']', ')')\n",
    "\n",
    "DICTIONARY\n",
    "\"Python dictionaries are the only built-in mapping type and they are similar to hash tables or\n",
    "associative arrays found in other languages. They can be thought of as a mapping from a set\n",
    "of keys to a set of values. They are created using the syntax {key:value}. For example, the\n",
    "following creates a dictionary mapping words to numerals:\n",
    "d ={'one': 1 , 'two': 2, 'three': 3 } # creates a dictionary\"\n",
    "\n",
    "\"the `in` operator, when applied to dictionaries, works in a slightly\n",
    "different way to when it is applied to a list. When we use the in operator on a list, the\n",
    "relationship between the time it takes to find an element and the size of the list is\n",
    "considered linear. That is, as the size of the list gets bigger, the corresponding time it takes\n",
    "to find an element grows, at most, linearly.\" -p40\n",
    "\n",
    "\"In contrast to the `list` object, when the `in` operator is applied to dictionaries, it uses a\n",
    "hashing algorithm and this has the effect of the increase in time for each lookup almost\n",
    "independent of the size of the dictionary. This makes dictionaries extremely useful as a way\n",
    "to work with large amounts of indexed data.\" -p40\n",
    "\n",
    "\"Notice when we print out the key:value pairs of the dictionary it does so in no particular\n",
    "order. This is not a problem since we use specified keys to look up each dictionary value\n",
    "rather than an ordered sequence of integers as is the case for strings and lists.\" -p40\n",
    "\n",
    "Sorting dictionaries from age 41"
   ],
   "metadata": {}
  },
  {
   "cell_type": "markdown",
   "source": [
    "MUST BE LINEAR COMPLEXITY e.g. iterate through the sequence once.\n",
    "\n",
    "1. Brackets are pairs. The length of the sequence must be even. Else, return False.\n",
    "2. There are 3 types of brackets. For each type of opening bracket, there must be a closing bracket of the same type in that order. [\"(\", \")\"], [\"{\", \"}\"], [\"[\", \"]\"]\n",
    "3. If there are unmatched brackets, return false\n",
    "4. Indexing and length\n",
    "Create a loop that checks: \n",
    "  Length = 6\n",
    "  Indexes = 0 ... (length -1)\n",
    "  0 1 2 3 4 5\n",
    "  ( { [ ] } )\n",
    "\n",
    "  ( + ) = 0 + 5 = 5\n",
    "  { + } = 1 + 4 = 5\n",
    "  [ + ] = 2 + 3 = 5\n",
    "\n",
    "Break loop when pairs made \n",
    "\n",
    "\n"
   ],
   "metadata": {}
  },
  {
   "cell_type": "code",
   "execution_count": 29,
   "source": [
    "# #WORKING WITH TUPLES\n",
    "# input = \"([{}])\"\n",
    "# input_tuple = tuple(input) #Create a tuple from a string input:\n",
    "# print(input_tuple) #('(', '[', '{', '}', ']', ')')\n",
    "\n",
    "\n",
    "\n",
    "# round = [\"(\", \")\"]\n",
    "# round_open, round_close = round #assigns round_open and roun_close to \"(\" and \")\" respectively\n",
    "\n",
    "# curly = [\"{\", \"}\"]\n",
    "# curly_open, curly_close = curly \n",
    "\n",
    "# square = [\"[\", \"]\"]\n",
    "# square_open, square_close = square\n",
    "\n",
    "\n",
    "# #DICTIONARY\n"
   ],
   "outputs": [],
   "metadata": {}
  },
  {
   "cell_type": "code",
   "execution_count": 30,
   "source": [
    "#SOLUTION 1\n",
    "def isBalanced(final_str):\n",
    "    type_brackets = ['()', '{}', '[]']\n",
    "    while any(x in final_str for x in type_brackets):\n",
    "        for br in type_brackets:\n",
    "            final_str = final_str.replace(br, '')\n",
    "    return not final_str\n",
    "\n",
    "#Manual Testing\n",
    "# string = \"{[]{()}}\" \n",
    "# string = \"()()\"\n",
    "# string = \"[)\"\n",
    "string = \"[(])\"\n",
    "\n",
    "print(string, True\n",
    "      if isBalanced(string) else False)\n",
    "\n"
   ],
   "outputs": [
    {
     "output_type": "stream",
     "name": "stdout",
     "text": [
      "[(]) False\n"
     ]
    }
   ],
   "metadata": {}
  },
  {
   "cell_type": "code",
   "execution_count": 31,
   "source": [
    "#SOLUTION 2\n",
    "def is_matched(expression):\n",
    "    opening = tuple('({[')\n",
    "    closing = tuple(')}]')\n",
    "    mapping = dict(zip(opening, closing))\n",
    "    queue = []\n",
    "\n",
    "    for letter in expression:\n",
    "        if letter in opening:\n",
    "            queue.append(mapping[letter])\n",
    "        elif letter in closing:\n",
    "            if not queue or letter != queue.pop():\n",
    "                return False\n",
    "    return not queue\n",
    "\n",
    "#Manual Testing\n",
    "print(is_matched(\"{[]{()}}\") )\n",
    "print(is_matched(\"()()\") )\n",
    "print(is_matched(\"[)\") )\n",
    "print(is_matched(\"[(])\") )"
   ],
   "outputs": [
    {
     "output_type": "stream",
     "name": "stdout",
     "text": [
      "True\n",
      "True\n",
      "False\n",
      "False\n"
     ]
    }
   ],
   "metadata": {}
  },
  {
   "cell_type": "code",
   "execution_count": 34,
   "source": [
    "#SOLUTION 3\n",
    "# See Baka, Python data structures and algorithm, 2017, Chapter 5:\n",
    "\n",
    "#THE STACK\n",
    "\n",
    "#a node holds data and a reference to the next item in a list.\n",
    "class Node:\n",
    "  def __init__(self, data=None):\n",
    "    self.data = data\n",
    "    self.next = None\n",
    "\n",
    "#Stack class \n",
    "class Stack:\n",
    "  #We need to know the node at the top of the stack & keep track of the number of nodes in the stack.\n",
    "  def __init__(self):\n",
    "    self.top = None\n",
    "    self.size = 0\n",
    "  #The push operation is used to add an element to the top of the stack\n",
    "  def push(self, data):\n",
    "    node = Node(data)\n",
    "    if self.top:\n",
    "      node.next = self.top\n",
    "      self.top = node\n",
    "    else:\n",
    "      self.top = node\n",
    "    self.size += 1\n",
    "  # A pop method to remove the top element from the stack. As we do so, we need to return the topmost element as well. \n",
    "  # We will make the stack return None if there are no more elements:\n",
    "  def pop(self):\n",
    "    if self.top:\n",
    "      data = self.top.data\n",
    "      self.size -= 1\n",
    "      if self.top.next:\n",
    "        self.top = self.top.next\n",
    "      else:\n",
    "        self.top = None\n",
    "      return data\n",
    "    else:\n",
    "      return None\n",
    "\n",
    "\n",
    "  # THE BRACKET MATCHING APPLICATION\n",
    "  #This function parses each character in the statement passed to it. If it gets an open bracket, it\n",
    "  # pushes it onto the stack. If it gets a closing bracket, it pops the top element off the stack and\n",
    "  # compares the two brackets to make sure their types match: ( should match ), [ should match ], and { should match }. \n",
    "  # If they don't, we return False, otherwise we continue parsing.\n",
    "  def check_brackets(statement):\n",
    "    stack = Stack()\n",
    "    for ch in statement:\n",
    "      if ch in ('{', '[', '('):\n",
    "        stack.push(ch)\n",
    "      if ch in ('}', ']', ')'):\n",
    "        last = stack.pop()\n",
    "      if last is '{' and ch is '}':  #SyntaxWarning: \"is\" with a literal. Use \"==\" instead\n",
    "        continue\n",
    "      elif last is '[' and ch is ']':\n",
    "        continue\n",
    "      elif last is '(' and ch is ')':\n",
    "        continue\n",
    "      else:\n",
    "        return False\n",
    "    if stack.size > 0:\n",
    "      return False\n",
    "    else:\n",
    "      return True\n",
    "\n",
    "# Once we have got to the end of the statement, we need to do one last check. If the stack is\n",
    "# empty, then we are fine and we can return True. But if the stack is not empty, then we have\n",
    "# some opening bracket which does not have a matching closing bracket and we shall return\n",
    "# False.\n",
    "\n",
    "#MANUAL TEST\n",
    "sl = (\n",
    "  \"{(foo)(bar)}[hello](((this)is)a)test\", #True\n",
    "  \"{(foo)(bar)}[hello](((this)is)atest\",  #True\n",
    "  \"{(foo)(bar)}[hello](((this)is)a)test))\" #False\n",
    ")\n",
    "for s in sl:\n",
    "  m = check_brackets(s)\n",
    "  print(\"{}: {}\".format(s, m))"
   ],
   "outputs": [
    {
     "output_type": "error",
     "ename": "UnboundLocalError",
     "evalue": "local variable 'last' referenced before assignment",
     "traceback": [
      "\u001b[0;31m---------------------------------------------------------------------------\u001b[0m",
      "\u001b[0;31mUnboundLocalError\u001b[0m                         Traceback (most recent call last)",
      "\u001b[0;32m<ipython-input-34-88e7de8abdce>\u001b[0m in \u001b[0;36m<module>\u001b[0;34m\u001b[0m\n\u001b[1;32m     77\u001b[0m )\n\u001b[1;32m     78\u001b[0m \u001b[0;32mfor\u001b[0m \u001b[0ms\u001b[0m \u001b[0;32min\u001b[0m \u001b[0msl\u001b[0m\u001b[0;34m:\u001b[0m\u001b[0;34m\u001b[0m\u001b[0;34m\u001b[0m\u001b[0m\n\u001b[0;32m---> 79\u001b[0;31m   \u001b[0mm\u001b[0m \u001b[0;34m=\u001b[0m \u001b[0mcheck_brackets\u001b[0m\u001b[0;34m(\u001b[0m\u001b[0ms\u001b[0m\u001b[0;34m)\u001b[0m\u001b[0;34m\u001b[0m\u001b[0;34m\u001b[0m\u001b[0m\n\u001b[0m\u001b[1;32m     80\u001b[0m   \u001b[0mprint\u001b[0m\u001b[0;34m(\u001b[0m\u001b[0;34m\"{}: {}\"\u001b[0m\u001b[0;34m.\u001b[0m\u001b[0mformat\u001b[0m\u001b[0;34m(\u001b[0m\u001b[0ms\u001b[0m\u001b[0;34m,\u001b[0m \u001b[0mm\u001b[0m\u001b[0;34m)\u001b[0m\u001b[0;34m)\u001b[0m\u001b[0;34m\u001b[0m\u001b[0;34m\u001b[0m\u001b[0m\n",
      "\u001b[0;32m<ipython-input-28-99e5b7d59a25>\u001b[0m in \u001b[0;36mcheck_brackets\u001b[0;34m(statement)\u001b[0m\n\u001b[1;32m     51\u001b[0m     \u001b[0;32mif\u001b[0m \u001b[0mch\u001b[0m \u001b[0;32min\u001b[0m \u001b[0;34m(\u001b[0m\u001b[0;34m'}'\u001b[0m\u001b[0;34m,\u001b[0m \u001b[0;34m']'\u001b[0m\u001b[0;34m,\u001b[0m \u001b[0;34m')'\u001b[0m\u001b[0;34m)\u001b[0m\u001b[0;34m:\u001b[0m\u001b[0;34m\u001b[0m\u001b[0;34m\u001b[0m\u001b[0m\n\u001b[1;32m     52\u001b[0m       \u001b[0mlast\u001b[0m \u001b[0;34m=\u001b[0m \u001b[0mstack\u001b[0m\u001b[0;34m.\u001b[0m\u001b[0mpop\u001b[0m\u001b[0;34m(\u001b[0m\u001b[0;34m)\u001b[0m\u001b[0;34m\u001b[0m\u001b[0;34m\u001b[0m\u001b[0m\n\u001b[0;32m---> 53\u001b[0;31m     \u001b[0;32mif\u001b[0m \u001b[0mlast\u001b[0m \u001b[0;34m==\u001b[0m \u001b[0;34m'{'\u001b[0m \u001b[0;32mand\u001b[0m \u001b[0mch\u001b[0m \u001b[0;34m==\u001b[0m \u001b[0;34m'}'\u001b[0m\u001b[0;34m:\u001b[0m  \u001b[0;31m#SyntaxWarning: \"is\" with a literal. Use \"==\" instead\u001b[0m\u001b[0;34m\u001b[0m\u001b[0;34m\u001b[0m\u001b[0m\n\u001b[0m\u001b[1;32m     54\u001b[0m       \u001b[0;32mcontinue\u001b[0m\u001b[0;34m\u001b[0m\u001b[0;34m\u001b[0m\u001b[0m\n\u001b[1;32m     55\u001b[0m     \u001b[0;32melif\u001b[0m \u001b[0mlast\u001b[0m \u001b[0;34m==\u001b[0m \u001b[0;34m'['\u001b[0m \u001b[0;32mand\u001b[0m \u001b[0mch\u001b[0m \u001b[0;34m==\u001b[0m \u001b[0;34m']'\u001b[0m\u001b[0;34m:\u001b[0m\u001b[0;34m\u001b[0m\u001b[0;34m\u001b[0m\u001b[0m\n",
      "\u001b[0;31mUnboundLocalError\u001b[0m: local variable 'last' referenced before assignment"
     ]
    }
   ],
   "metadata": {}
  },
  {
   "cell_type": "markdown",
   "source": [
    "#### References\n",
    "- Baka, Python data structures and algorithm, 2017, Chapter 5\n",
    "- https://en.wikipedia.org/wiki/Sequence\n",
    "- Benjamin Baka, Python Data Structures and Algorithm, Tuples (2017)\n",
    "- https://www.openbookproject.net/books/bpp4awd/ch03.html\n",
    "- https://www.codegrepper.com/code-examples/python/valid+bracket+sequence+python\n",
    "\n",
    "\n"
   ],
   "metadata": {}
  }
 ],
 "metadata": {
  "orig_nbformat": 4,
  "language_info": {
   "name": "python",
   "version": "3.8.8",
   "mimetype": "text/x-python",
   "codemirror_mode": {
    "name": "ipython",
    "version": 3
   },
   "pygments_lexer": "ipython3",
   "nbconvert_exporter": "python",
   "file_extension": ".py"
  },
  "kernelspec": {
   "name": "python3",
   "display_name": "Python 3.8.8 64-bit ('base': conda)"
  },
  "interpreter": {
   "hash": "63751a5ece8274622384c380d1ec9a5c7b94eb29c37aa5c91456440a63970985"
  }
 },
 "nbformat": 4,
 "nbformat_minor": 2
}