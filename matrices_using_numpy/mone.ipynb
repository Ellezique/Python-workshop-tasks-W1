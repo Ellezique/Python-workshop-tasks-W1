{
 "cells": [
  {
   "cell_type": "markdown",
   "source": [
    "# Question 1:\t\n",
    "You are given a big matrix and a smaller one, write a function that returns the coordinates of a smaller matrix within a bigger one. Start with 2d and experiment with higher dimensions."
   ],
   "metadata": {}
  },
  {
   "cell_type": "markdown",
   "source": [
    "NumPy has universal functions (ufuncs) that operates on the ndarray object. Rather than iterating through arrays, use ufuncs to implement vectorization (i.e. convert iterative statementsinto a vector based operation). \n",
    "\n",
    "The zip method:"
   ],
   "metadata": {}
  },
  {
   "cell_type": "code",
   "execution_count": 34,
   "source": [
    "import numpy as np\n",
    "\n",
    "#2x3 matrix\n",
    "bigMatrix = np.array([[1, 2, 3], [4, 5, 6]])\n",
    "print(A) #matrix A\n",
    "# Useful to check size and shape of array for further calculations\n",
    "# print(\"number of dimensions: \", A.ndim) \n",
    "# print(\"Shape rows, columns: \", A.shape) \n",
    "# print(\"View number of elements (rows * columns): \", A.size) \n",
    "# print(\"First row A[0] = \", A[0]) \n",
    "# print(\"Second row A[1] = \", A[1]) \n",
    "\n",
    "#2 x 2 matrix\n",
    "smallMatrix = np.array([[2, 3], [5, 6]]) \n",
    "print(B)\n",
    "\n",
    "def match_first_coordinate(smallMatrix, bigMatrix):\n",
    "#iterate over list of bigMatrix coordinates and print them where the values match the smallMatrix\n",
    "  result = np.where(bigMatrix == smallMatrix[0,0]) #returns tuple of arrays (array([row_indeces]), array([column_indeces])).\n",
    "  #Both arrays have the same length and can therefore be zipped so that the item at the same index of each array is paired e.g. (first_row, first_column).\n",
    "  #This will return key value pairs i.e. coordinates\n",
    "  listOfCoordinates = list(zip(result[0], result[1])) #returns coordinates [row_index, column_index]\n",
    "  print('The top left corner of the small matrix is at big matrix coordinate: ', listOfCoordinates)\n",
    "  for cord in listOfCoordinates:\n",
    "      print(cord)\n",
    "\n",
    "match_first_coordinate(smallMatrix, bigMatrix)"
   ],
   "outputs": [
    {
     "output_type": "stream",
     "name": "stdout",
     "text": [
      "[[1 2 3]\n",
      " [4 5 6]]\n",
      "[[2 3]\n",
      " [5 6]]\n",
      "The top left corner of the small matrix is at big matrix coordinate:  [(0, 1)]\n",
      "(0, 1)\n"
     ]
    }
   ],
   "metadata": {}
  },
  {
   "cell_type": "markdown",
   "source": [
    "extract\n",
    "where"
   ],
   "metadata": {}
  },
  {
   "cell_type": "markdown",
   "source": [
    "##### References\n",
    "\n",
    "- https://thispointer.com/find-the-index-of-a-value-in-numpy-array/\n",
    "- https://www.w3schools.com/python/numpy/numpy_array_iterating.asp\n"
   ],
   "metadata": {}
  }
 ],
 "metadata": {
  "orig_nbformat": 4,
  "language_info": {
   "name": "python",
   "version": "3.8.8",
   "mimetype": "text/x-python",
   "codemirror_mode": {
    "name": "ipython",
    "version": 3
   },
   "pygments_lexer": "ipython3",
   "nbconvert_exporter": "python",
   "file_extension": ".py"
  },
  "kernelspec": {
   "name": "python3",
   "display_name": "Python 3.8.8 64-bit ('base': conda)"
  },
  "interpreter": {
   "hash": "63751a5ece8274622384c380d1ec9a5c7b94eb29c37aa5c91456440a63970985"
  }
 },
 "nbformat": 4,
 "nbformat_minor": 2
}