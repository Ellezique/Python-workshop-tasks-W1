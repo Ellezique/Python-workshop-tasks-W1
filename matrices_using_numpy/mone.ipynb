{
 "cells": [
  {
   "cell_type": "markdown",
   "source": [
    "# Question 1:\t\n",
    "You are given a big matrix and a smaller one, write a function that returns the coordinates of a smaller matrix within a bigger one. Start with 2d and experiment with higher dimensions."
   ],
   "metadata": {}
  },
  {
   "cell_type": "code",
   "execution_count": 22,
   "source": [
    "import numpy as np \n",
    "\n",
    "# find match by row/column index\n",
    "# iterate through A row 1. return coordinates for matches with B\n",
    "# Row 2 use same column for row to and confirm match.return coordinates.\n",
    "\n",
    "# helper function, given an x,y coordinate , it returns true or false whether match.\n",
    "# given a coordinate, is the smaller matrix at this location\n",
    "# loop through all coordinates\n",
    "# 1) loop through all coordinates\n",
    "# 2) is the small matrix at the coordinate -> true or false [HELPER FUNCTION]\n",
    "\n",
    "# LOOP THROUGH ALL BIG MATRIX COORDINATES \n",
    "def check_matrix_coordinates(smallmatrix, bigmatrix):\n",
    "  #matrix.shape gives in 2D [row, column], in 3D [row, column, depth]\n",
    "  bigwidth = bigmatrix.shape[0]  # bigmatrix width aka number of rows\n",
    "  bigheight = bigmatrix.shape[1] # bigmatrix height aka number of columns\n",
    "  matrixfound = False\n",
    "  for x in range(bigwidth): #for each element in the big matrix x axis [0 ...bigwidth] \n",
    "      for y in range(bigheight): #for each element in the big matrix y axis [0 ...bigheight] \n",
    "        coordinate = [x, y] #check this coordinate x,y\n",
    "        #testing \n",
    "        if is_matrix_at_coordinate(coordinate, smallmatrix, bigmatrix):\n",
    "          print(\"The top left corner of the little matrix in the big matrix is at: \", coordinate) #the coordinate where the matrix starts ie the top left corner of small matrix at index [0,0]\n",
    "          # BUILD UP ARRAY OF ALL COORDINATES & return that ##########################          \n",
    "          matrixfound = True \n",
    "  if not matrixfound: \n",
    "    print(\"Matrix not found\")      \n",
    "\n",
    "# HELPER FUNCTION: given an x,y coordinate, look for match and return true or false\n",
    "# Parameter (1) The coordinate is the top left corner of the small matrix as located in the big matrix. ie hitting the front of the battleship\n",
    "# Parameter (2) The smallmatrix: x by y dimensions containing specific elements\n",
    "# Parameter (3) The bigmatrix: The grid/ ocean\n",
    "# Returns true if the entire small matrix is found within the bigmatrix starting at coordinate location.\n",
    "def is_matrix_at_coordinate(coordinate, smallmatrix, bigmatrix): \n",
    "  #loop starting at coordinate location of each item in the big matrix, compare to item in small matrix & check if items equal\n",
    "  \n",
    "  #[x, y] x is at the 0 index, y is at the 1 index \n",
    "  x = coordinate[0] #this row\n",
    "  y = coordinate[1] #this column\n",
    "  #matrix.shape gives in 2D [row, column], in 3D [row, column, depth]\n",
    "  smallwidth = smallmatrix.shape[0]         \n",
    "          #smalldepth = .....[3] for a 3d array print(\"smallwidth = \", smallwidth)\n",
    "  smallheight = smallmatrix.shape[1]        \n",
    "  bigwidth = bigmatrix.shape[0]            \n",
    "  bigheight = bigmatrix.shape[1]           \n",
    "          #bigdepth = ....[3] for 3d array\n",
    "          #For multi dimensional arrays - The nesting of the number of loops would be defined by the number dimensions of the matrix. \n",
    "\n",
    "  #MAKE SURE THE SMALL MATRIX COORDINATE (the location of the top left corner of the small matrix aka hit battleship on the nose) \n",
    "   #IS WITHIN DIMENSIONS OF THE BIG MATRIX (don't search outside the big matrix - the shot must be in the ocean in the ocean)\n",
    "      #The first item in the matrix is 0,0 (negatives fall outside the matrix so no need to test there)\n",
    "        #only test the coordinates within the matrix\n",
    "  if x < 0: # matrix starts at coordinate index 0, so there is no coordinate below zero\n",
    "    return False\n",
    "  if x >= bigwidth: # number items on x axis in big matrix. Indexing starts at zero, so number of items -1\n",
    "    return False\n",
    "  if y < 0: # matrix starts at coordinate index 0, so there is no coordinate below zero\n",
    "    return False\n",
    "  if y >= bigheight: # number items on y axis in big matrix. Indexing starts at zero, so number of items -1\n",
    "    return False\n",
    "  # the small and big matrix could have the exact same dimensions, \n",
    "  # but we are testing if the location + length of the small matrix are outside the bounds of the big matrix\n",
    "  if x + smallwidth > bigwidth: # x is coordinate being checked + smallwidth must both be inside the bigmatrix and therefore cannot be bigger than bigmarix width.\n",
    "    return False\n",
    "  if y + smallheight > bigheight: # y is coordinate being checked + smallheight must both be inside the bigmatrix and therefore cannot be bigger than bigmarix width.\n",
    "    return False\n",
    "  \n",
    "  for dx in range(smallwidth): #for every x axis coordinate in the range within the small matrix. iterate from 0 to small width\n",
    "    for dy in range(smallheight):  #for every y axis coordinate in the range within the small matrix. iterate from 0 to small height\n",
    "      if smallmatrix[dx, dy] != bigmatrix[x + dx, y + dy]: #go through each element of the small matrix, \n",
    "                                                          #go through each element of big matrix plus offset for coordinate to \n",
    "                                                          # see if values match. Coordinate is the guess of where \n",
    "                                                          #the top left corner of the little matrix is.\n",
    "        return False\n",
    "  return True\n",
    "\n",
    "#TEST CASES\n",
    "\n",
    "#2x3 matrix\n",
    "A = np.array([[1, 2, 3], [4, 5, 6]])\n",
    "print(A) #matrix A\n",
    "# Useful to check size and shape of array for further calculations\n",
    "# print(\"number of dimensions: \", A.ndim) \n",
    "# print(\"Shape rows, columns: \", A.shape) \n",
    "# print(\"View number of elements (rows * columns): \", A.size) \n",
    "# print(\"First row A[0] = \", A[0]) \n",
    "# print(\"Second row A[1] = \", A[1]) \n",
    "\n",
    "#2 x 2 matrix\n",
    "B = np.array([[2, 3], [5, 6]]) \n",
    "print(B) \n",
    "\n",
    "check_matrix_coordinates(B, A)"
   ],
   "outputs": [
    {
     "output_type": "stream",
     "name": "stdout",
     "text": [
      "[[1 2 3]\n",
      " [4 5 6]]\n",
      "[[2 3]\n",
      " [5 6]]\n",
      "Matrix is at:  [0, 1]\n"
     ]
    }
   ],
   "metadata": {}
  },
  {
   "cell_type": "markdown",
   "source": [
    "##### References\n",
    "- iterate through 2d and 3d arrays https://www.w3schools.com/python/numpy/numpy_array_iterating.asp\n",
    "- Numpy searching arrays:  https://www.w3schools.com/python/numpy/numpy_array_search.asp   search for python library that might offer solution"
   ],
   "metadata": {}
  }
 ],
 "metadata": {
  "orig_nbformat": 4,
  "language_info": {
   "name": "python",
   "version": "3.8.8",
   "mimetype": "text/x-python",
   "codemirror_mode": {
    "name": "ipython",
    "version": 3
   },
   "pygments_lexer": "ipython3",
   "nbconvert_exporter": "python",
   "file_extension": ".py"
  },
  "kernelspec": {
   "name": "python3",
   "display_name": "Python 3.8.8 64-bit ('base': conda)"
  },
  "interpreter": {
   "hash": "63751a5ece8274622384c380d1ec9a5c7b94eb29c37aa5c91456440a63970985"
  }
 },
 "nbformat": 4,
 "nbformat_minor": 2
}