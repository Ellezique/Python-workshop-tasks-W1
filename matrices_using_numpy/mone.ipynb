{
 "cells": [
  {
   "cell_type": "markdown",
   "source": [
    "# Question 1.\t\n",
    "You are given a big matrix and a smaller one, write a function that returns the coordinates of a smaller matrix within a bigger one. Start with 2d and experiment with higher dimensions."
   ],
   "metadata": {}
  },
  {
   "cell_type": "code",
   "execution_count": 33,
   "source": [
    "import numpy as np \n",
    "\n",
    "# find match by row/column index\n",
    "# iterate through A row 1. return coordinates for matches with B\n",
    "# Row 2 use same column for row to and confirm match.return coordinates.\n",
    "\n",
    "#2x3 matrix\n",
    "A = np.array([[1, 2, 3], [4, 5, 6]])\n",
    "print(A) #matix A\n",
    "# Useful to check size and shape of array for further calculations\n",
    "print(\"number of dimensions: \", A.ndim) \n",
    "print(\"Shape rows, columns: \", A.shape) \n",
    "print(\"View number of elements (rows * columns): \", A.size) \n",
    "print(\"First row A[0] = \", A[0]) \n",
    "print(\"Second row A[1] = \", A[1]) \n",
    "\n",
    "#2 x 2 matrix\n",
    "B = np.array([[2, 3], [5, 6]]) \n",
    "print(B) \n",
    "\n",
    "# Iterate on each scalar element of the 2-D \"A\" array\n",
    "for x in A:\n",
    "  for y in x:\n",
    "    print(y) \n",
    "\n",
    "i = 0\n",
    "while A[i] < A.size:\n",
    "    print(A[i])\n",
    "    i = i+1\n",
    "    if(i==A.size):\n",
    "        break\n",
    "\n",
    "\n",
    "#in each column \n",
    "#np.function(A, axis=0) \n",
    "#in each row \n",
    "#(B, axis=1) \n",
    "\n",
    "#row = x \n",
    "#x += 1 "
   ],
   "outputs": [
    {
     "output_type": "stream",
     "name": "stdout",
     "text": [
      "[[1 2 3]\n",
      " [4 5 6]]\n",
      "number of dimensions:  2\n",
      "Shape rows, columns:  (2, 3)\n",
      "View number of elements (rows * columns):  6\n",
      "First row A[0] =  [1 2 3]\n",
      "Second row A[1] =  [4 5 6]\n",
      "[[2 3]\n",
      " [5 6]]\n",
      "1\n",
      "2\n",
      "3\n",
      "4\n",
      "5\n",
      "6\n"
     ]
    }
   ],
   "metadata": {}
  }
 ],
 "metadata": {
  "orig_nbformat": 4,
  "language_info": {
   "name": "python",
   "version": "3.8.8",
   "mimetype": "text/x-python",
   "codemirror_mode": {
    "name": "ipython",
    "version": 3
   },
   "pygments_lexer": "ipython3",
   "nbconvert_exporter": "python",
   "file_extension": ".py"
  },
  "kernelspec": {
   "name": "python3",
   "display_name": "Python 3.8.8 64-bit ('base': conda)"
  },
  "interpreter": {
   "hash": "63751a5ece8274622384c380d1ec9a5c7b94eb29c37aa5c91456440a63970985"
  }
 },
 "nbformat": 4,
 "nbformat_minor": 2
}