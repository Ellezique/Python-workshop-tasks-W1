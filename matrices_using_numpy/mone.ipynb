{
 "cells": [
  {
   "cell_type": "markdown",
   "source": [
    "# Question 1:\t\n",
    "You are given a big matrix and a smaller one, write a function that returns the coordinates of a smaller matrix within a bigger one. Start with 2d and experiment with higher dimensions."
   ],
   "metadata": {}
  },
  {
   "cell_type": "code",
   "execution_count": 45,
   "source": [
    "import numpy as np \n",
    "\n",
    "# find match by row/column index\n",
    "# iterate through A row 1. return coordinates for matches with B\n",
    "# Row 2 use same column for row to and confirm match.return coordinates.\n",
    "\n",
    "# helper function, given an x,y coordinate , it returns true or false whether match.\n",
    "# given a coordinate, is the smaller matrix at this location\n",
    "# loop through all coordinates\n",
    "# 1) loop through all coordinates\n",
    "# 2) true or false\n",
    "\n",
    "\n",
    "# HELPER FUNCTION: given an x,y coordinate, look for match and return true or false \n",
    "def is_matrix_at_coordinate(coordinate, smallmatrix, bigmatrix):\n",
    "  #loop starting at coordinate location of each item in the big matrix, compare to item in small matrix & check if items equal\n",
    "  x = coordinate[0]\n",
    "  y = coordinate[1]\n",
    "  smallwidth = smallmatrix.shape[0] \n",
    "  smallheight = smallmatrix.shape[1]\n",
    "  bigwidth = bigmatrix.shape[0] \n",
    "  bigheight = bigmatrix.shape[1]\n",
    "\n",
    "  #MAKE SURE THE SMALL MATRIX COORDINATE OFFSET IS WITHIN DIMENSIONS OF THE BIG MATRIX\n",
    "  #The first item in the matrix is 0,0 (negatives fall outside the matrix so no need to test there)\n",
    "  #only test the coordinates within the matrix\n",
    "  if x < 0: # matrix starts at coordinate index 0, so there is no coordinate below zero\n",
    "    return False\n",
    "  if x >= bigwidth: # column or row?\n",
    "    return False\n",
    "  if y < 0: # matrix starts at coordinate index 0, so there is no coordinate below zero\n",
    "    return False\n",
    "  if y >= bigheight:\n",
    "    return False\n",
    "  # the small and big matrix could have the exact same dimensions, \n",
    "  # but we are testing if the location + length of the small matrix are outside the bounds of the big matrix\n",
    "  if x + smallwidth > bigwidth: \n",
    "    return False\n",
    "  if y >= bigheight:\n",
    "    return False\n",
    "  \n",
    "  for dx in range(x, x + smallwidth):\n",
    "    for dy in range(y, y + smallheight):\n",
    "      if smallmatrix[x, y] != bigmatrix[dx, dy]:\n",
    "        return False\n",
    "  return True\n",
    "\n",
    "#TEST CASES\n",
    "\n",
    "#2x3 matrix\n",
    "A = np.array([[1, 2, 3], [4, 5, 6]])\n",
    "print(A) #matrix A\n",
    "# Useful to check size and shape of array for further calculations\n",
    "# print(\"number of dimensions: \", A.ndim) \n",
    "# print(\"Shape rows, columns: \", A.shape) \n",
    "# print(\"View number of elements (rows * columns): \", A.size) \n",
    "# print(\"First row A[0] = \", A[0]) \n",
    "# print(\"Second row A[1] = \", A[1]) \n",
    "\n",
    "#2 x 2 matrix\n",
    "B = np.array([[2, 3], [5, 6]]) \n",
    "print(B) \n",
    "\n",
    "#coordinates\n",
    "coordinates = [[-5, -5], [0,0], [0,1], [2,2], [7,7], [1, 1], [100, 10]]\n",
    "\n",
    "for C in coordinates:\n",
    "  print(C)\n",
    "  print(is_matrix_at_coordinate(C, B, A))"
   ],
   "outputs": [
    {
     "output_type": "stream",
     "name": "stdout",
     "text": [
      "[[1 2 3]\n",
      " [4 5 6]]\n",
      "[[2 3]\n",
      " [5 6]]\n",
      "False\n"
     ]
    }
   ],
   "metadata": {}
  },
  {
   "cell_type": "markdown",
   "source": [
    "##### References\n",
    "- iterate through 2d and 3d arrays https://www.w3schools.com/python/numpy/numpy_array_iterating.asp"
   ],
   "metadata": {}
  }
 ],
 "metadata": {
  "orig_nbformat": 4,
  "language_info": {
   "name": "python",
   "version": "3.8.8",
   "mimetype": "text/x-python",
   "codemirror_mode": {
    "name": "ipython",
    "version": 3
   },
   "pygments_lexer": "ipython3",
   "nbconvert_exporter": "python",
   "file_extension": ".py"
  },
  "kernelspec": {
   "name": "python3",
   "display_name": "Python 3.8.8 64-bit ('base': conda)"
  },
  "interpreter": {
   "hash": "63751a5ece8274622384c380d1ec9a5c7b94eb29c37aa5c91456440a63970985"
  }
 },
 "nbformat": 4,
 "nbformat_minor": 2
}