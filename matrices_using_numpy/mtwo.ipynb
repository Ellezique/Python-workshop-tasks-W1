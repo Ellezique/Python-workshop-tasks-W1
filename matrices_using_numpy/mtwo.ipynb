{
 "cells": [
  {
   "cell_type": "markdown",
   "source": [
    "# Question 2: \n",
    "You are given a big matrix, a smaller one and a number representing how much to rotate the smaller matrix in multipliers of π radians in increments of 0.5 (0, 0.5, 1, ...). Write a function that returns a copy of a big matrix where the smaller matrix is rotated  accordingly."
   ],
   "metadata": {}
  },
  {
   "cell_type": "code",
   "execution_count": null,
   "source": [],
   "outputs": [],
   "metadata": {}
  },
  {
   "cell_type": "markdown",
   "source": [
    "- big matrix\n",
    "- smaller matrix\n",
    "- a number representing how much to rotate the smaller matrix in multipliers of π radians in increments of 0.5 (0, 0.5, 1, ...). \n",
    "- Write a function that returns a copy of a big matrix where the smaller matrix is rotated  accordingly.\n",
    "\n",
    "Rotate matrix\n",
    "\n",
    "-Numpy to find sub matrix\n",
    "-A function that takes in a matrix to rotate\n",
    "- only go so far as teh size of the small matrix"
   ],
   "metadata": {}
  },
  {
   "cell_type": "markdown",
   "source": [
    "- a rotation is a transformation\n",
    "\n"
   ],
   "metadata": {}
  },
  {
   "cell_type": "markdown",
   "source": [
    "##### References\n",
    "- What are radians https://www.youtube.com/watch?v=cgPYLJ-s5II\n",
    "- https://en.wikipedia.org/wiki/Rotation_matrix#:~:text=Rotation%20matrices%20are%20square%20matrices,1%20and%20det%20R%20%3D%201."
   ],
   "metadata": {}
  }
 ],
 "metadata": {
  "orig_nbformat": 4,
  "language_info": {
   "name": "python"
  }
 },
 "nbformat": 4,
 "nbformat_minor": 2
}