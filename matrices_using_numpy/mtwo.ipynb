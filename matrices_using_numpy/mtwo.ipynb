{
 "cells": [
  {
   "cell_type": "markdown",
   "source": [
    "# Question 2: \n",
    "You are given a big matrix, a smaller one and a number representing how much to rotate the smaller matrix in multipliers of π radians in increments of 0.5 (0, 0.5, 1, ...). Write a function that returns a copy of a big matrix where the smaller matrix is rotated  accordingly."
   ],
   "metadata": {}
  },
  {
   "cell_type": "markdown",
   "source": [
    "(BigMatrix, SmallMatrix, rotation)\n",
    "- big matrix\n",
    "- smaller matrix which needs to be rotated to match big matrix\n",
    "- rotations 0π, 0.5π, 1π, 1.5π, 2π\n",
    "0 degrees = 0π\n",
    "90 =  0.5π\n",
    "180 = 1π\n",
    "27 = 1.5π \n",
    "360 = 2π\n",
    "\n",
    "Rotate matrix\n",
    "- Numpy to find sub matrix\n",
    "- A function that takes in a matrix to rotate\n",
    "- only go so far as teh size of the small matrix\n",
    "- a rotation is a transformation"
   ],
   "metadata": {}
  },
  {
   "cell_type": "code",
   "execution_count": 89,
   "source": [
    "import numpy as np\n",
    "\n",
    "#2Dimensionsal\n",
    "bigMatrix = np.array([[2, 2, 3, 8], [4, 5, 6, 8], [4, 6, 7, 8], [2, 6, 6, 8]])\n",
    "#print(bigMatrix) \n",
    "smallMatrix = np.array([[2, 3, 8], [5, 6, 8]]) \n",
    "#print(smallMatrix)\n",
    "smallMatrix2 = np.array([[6, 8], [7, 8], [6, 8]]) \n",
    "#This requires rotation:\n",
    "bigMatrix3 = np.array([[2, 2, 3, 8], [4, 5, 6, 8], [4, 6, 7, 6], [2, 8, 8, 8]])\n",
    "smallMatrix3 = np.array([[7, 6], [6, 8]])\n",
    "\n",
    "#Class from question one \n",
    "class MatrixSearch:\n",
    "  def match_coordinates(smallMatrix, bigMatrix):\n",
    "    smallMatrix_shape = smallMatrix.shape #returns dimensions of matrix shape row x column for 2D\n",
    "    # print(\"SmallMatrix shape is \", smallMatrix_shape)\n",
    "    width = smallMatrix_shape[0]\n",
    "    height = smallMatrix_shape[1]\n",
    "    # print(\"This is height: \", height)\n",
    "    # print(\"This is width: \", width)   \n",
    "    result = np.where(bigMatrix == smallMatrix[0, 0]) \n",
    "    # print(result)\n",
    "    if result is None:\n",
    "      return None\n",
    "    #Finds first coordiante ie match top left corner of small matrix\n",
    "    for i in range(len(result[0])):\n",
    "      x = result[0][i] #column\n",
    "      y = result[1][i] #row\n",
    "      # print(\"This is x \", x)\n",
    "      # print(\"This is y \", y)\n",
    "      #This slices the little matrix out of the bigmatrix \n",
    "      search_matrix = bigMatrix[x: x + width, y: y + height] \n",
    "      print(search_matrix)\n",
    "      if np.array_equal(smallMatrix, search_matrix):\n",
    "        match = [x, y]\n",
    "        print(\"Match found starting at coordinate: \", match)\n",
    "        return match #should return all matching coordinates. Stops searching after finding first match.\n",
    "    return None\n",
    "  \n",
    "  def show_all_coordinates(smallMatrix, bigMatrix, match):\n",
    "    if match is None:\n",
    "      return None\n",
    "    smallMatrix_shape = smallMatrix.shape #returns dimensions of matrix shape row x column for 2D\n",
    "    height = smallMatrix_shape[0]\n",
    "    width = smallMatrix_shape[1]\n",
    "    matches = []\n",
    "    x = match[0]\n",
    "    y = match[1]\n",
    "    for dy in range(y, y + height):\n",
    "      for dx in range(x, x + width):\n",
    "          matches.append([dx, dy])\n",
    "    return matches\n",
    "\n",
    "  #rotate small matrix\n",
    "  def rotate_matrix(smallMatrix, rotations):\n",
    "    rotated_matrix = smallMatrix.copy()\n",
    "    rotated_matrix = np.rot90(rotated_matrix, rotations)\n",
    "    return rotated_matrix\n",
    "\n",
    "  def solution(smallMatrix, bigMatrix):\n",
    "    found = False\n",
    "    test_matrix = smallMatrix\n",
    "    for k in range(0, 3):\n",
    "      if k > 0:\n",
    "        test_matrix = MatrixSearch.rotate_matrix(test_matrix, k)\n",
    "      match = MatrixSearch.match_coordinates(test_matrix, bigMatrix)\n",
    "      if match != None:\n",
    "        print(MatrixSearch.show_all_coordinates(test_matrix, bigMatrix, match))\n",
    "        found = True\n",
    "        break\n",
    "      if not found:\n",
    "        print(\"bigMatrix searched but smallMatrix not found\")\n",
    "\n",
    "  def stars_matches(matches, bigMatrix):\n",
    "    if matches is None:\n",
    "      return None\n",
    "    strmatrix = bigMatrix.astype(str)\n",
    "    for match in matches:\n",
    "      strmatrix[match[0]][match[1]] = \"*\" #just shows where the matching coordinates are - couldn't use a string\n",
    "      print(strmatrix)\n",
    "      \n",
    "#INPUT TO TEST DIFF MATRICES\n",
    "smallMatrix = smallMatrix3\n",
    "bigMatrix = bigMatrix3\n",
    "\n",
    "#Call functions:\n",
    "print(\"This is the big matrix: \\n\", bigMatrix)\n",
    "print(\"This is the small matrix: \\n\", smallMatrix)\n",
    "match = MatrixSearch.match_coordinates(smallMatrix, bigMatrix)\n",
    "print(\"This is the result for match: \", match)\n",
    "matches = MatrixSearch.show_all_coordinates(smallMatrix, bigMatrix, match)\n",
    "MatrixSearch.solution(smallMatrix, bigMatrix)\n",
    "MatrixSearch.stars_matches(matches, bigMatrix)\n",
    "# print(\"No rotations: \\n\", rotate_smallMatrix(smallMatrix, 0))\n",
    "# print(\"One rotation: \\n\", rotate_smallMatrix(smallMatrix, 1))\n",
    "# print(\"Two rotations: \\n\",rotate_smallMatrix(smallMatrix, 2))\n",
    "# print(\"Three rotations: \\n\",rotate_smallMatrix(smallMatrix, 3))\n"
   ],
   "outputs": [
    {
     "output_type": "stream",
     "name": "stdout",
     "text": [
      "This is the big matrix: \n",
      " [[2 2 3 8]\n",
      " [4 5 6 8]\n",
      " [4 6 7 6]\n",
      " [2 8 8 8]]\n",
      "This is the small matrix: \n",
      " [[7 6]\n",
      " [6 8]]\n",
      "[[7 6]\n",
      " [8 8]]\n",
      "This is the result for match:  None\n",
      "[[7 6]\n",
      " [8 8]]\n",
      "bigMatrix searched but smallMatrix not found\n",
      "[[6 8]\n",
      " [7 6]]\n",
      "Match found starting at coordinate:  [1, 2]\n",
      "[[1, 2], [2, 2], [1, 3], [2, 3]]\n"
     ]
    }
   ],
   "metadata": {}
  },
  {
   "cell_type": "markdown",
   "source": [
    "### TO DO:\n",
    "- The stars_matches function prints the big matrix with stars where the little matrix is found. BUT it does not print when the little matrix has to be rotated to find a match. Fix this."
   ],
   "metadata": {}
  },
  {
   "cell_type": "markdown",
   "source": [
    "##### References\n",
    "- What are radians https://www.youtube.com/watch?v=cgPYLJ-s5II\n",
    "- https://en.wikipedia.org/wiki/Rotation_matrix#:~:text=Rotation%20matrices%20are%20square%20matrices,1%20and%20det%20R%20%3D%201.\n",
    "- https://numpy.org/doc/stable/reference/generated/numpy.rot90.html"
   ],
   "metadata": {}
  }
 ],
 "metadata": {
  "orig_nbformat": 4,
  "language_info": {
   "name": "python",
   "version": "3.8.8",
   "mimetype": "text/x-python",
   "codemirror_mode": {
    "name": "ipython",
    "version": 3
   },
   "pygments_lexer": "ipython3",
   "nbconvert_exporter": "python",
   "file_extension": ".py"
  },
  "kernelspec": {
   "name": "python3",
   "display_name": "Python 3.8.8 64-bit ('base': conda)"
  },
  "interpreter": {
   "hash": "63751a5ece8274622384c380d1ec9a5c7b94eb29c37aa5c91456440a63970985"
  }
 },
 "nbformat": 4,
 "nbformat_minor": 2
}