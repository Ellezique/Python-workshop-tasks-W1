{
 "cells": [
  {
   "cell_type": "markdown",
   "source": [
    "# Question 3: \n",
    "You are given the size of a matrix (e.g. width and height for 2D) and the coordinate of the start and the end of the line segment. Write a function that returns the matrix which has 1 where the line pixels should be and 0 where they shouldn’t. \n",
    "Draw the matrix as a graphical output. Start with 2d and experiment with higher dimensions.\n"
   ],
   "metadata": {}
  },
  {
   "cell_type": "markdown",
   "source": [
    "- Given: Two dimension of matrix\n",
    "- Change all values to 1 for those line segment coordinates\n",
    "- Change the other values to 0"
   ],
   "metadata": {}
  },
  {
   "cell_type": "code",
   "execution_count": 25,
   "source": [
    "#THIS does not run because I do not have cv2 properly installed. Workaround: see matrix.py and run in terminal with  $ ./matrix.py\n",
    "\n",
    "#NOTE TO SELF: CV2 is installed with my Pyhton 3.6\n",
    "import numpy as np\n",
    "import skimage \n",
    "import skimage.draw\n",
    "#import skimage.draw import line_aa\n",
    "#import cv2 \n",
    "# np.zeros(matrix)\n",
    "# height = matrix.shape[0]\n",
    "# width = matrix.shape[1]\n",
    "\n",
    "def draw_line_segment(shape, start_coordinate, end_coordinate):\n",
    "  from skimage.draw import line\n",
    "  img = (np.zeros((shape), dtype=np.uint8))\n",
    "  rr, cc = line(start_coordinate[0], start_coordinate[1], end_coordinate[0], end_coordinate[1])\n",
    "  img[rr, cc] = 1 \n",
    "  return img\n",
    "\n",
    "#image = draw_line_segment([100, 100], [10, 10], [20, 20])\n",
    "draw_line_segment([10, 10], [1, 1], [8, 8])\n",
    "#image = np.multiply(image, 128)\n",
    "#cv2.imwrite('image.jpg',image)\n",
    "# $ ./matrix.py"
   ],
   "outputs": [],
   "metadata": {}
  },
  {
   "cell_type": "markdown",
   "source": [
    "## References \n",
    "- https://stackoverflow.com/questions/31638651/how-can-i-draw-lines-into-numpy-arrays\n",
    "- https://scikit-image.org/docs/dev/api/skimage.draw.html#skimage.draw.line_aa "
   ],
   "metadata": {}
  }
 ],
 "metadata": {
  "orig_nbformat": 4,
  "language_info": {
   "name": "python",
   "version": "3.8.8",
   "mimetype": "text/x-python",
   "codemirror_mode": {
    "name": "ipython",
    "version": 3
   },
   "pygments_lexer": "ipython3",
   "nbconvert_exporter": "python",
   "file_extension": ".py"
  },
  "kernelspec": {
   "name": "python3",
   "display_name": "Python 3.8.8 64-bit ('base': conda)"
  },
  "interpreter": {
   "hash": "63751a5ece8274622384c380d1ec9a5c7b94eb29c37aa5c91456440a63970985"
  }
 },
 "nbformat": 4,
 "nbformat_minor": 2
}